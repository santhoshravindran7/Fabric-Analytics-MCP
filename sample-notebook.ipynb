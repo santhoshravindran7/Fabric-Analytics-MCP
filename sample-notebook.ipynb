{
 "cells": [
  {
   "cell_type": "markdown",
   "id": "43333c11",
   "metadata": {},
   "source": [
    "# Sample Notebook for Microsoft Fabric\n",
    "\n",
    "This is a sample notebook that demonstrates the structure supported by the Fabric Analytics MCP Server."
   ]
  },
  {
   "cell_type": "code",
   "execution_count": null,
   "id": "342f31ff",
   "metadata": {},
   "outputs": [],
   "source": [
    "# Import required libraries\n",
    "import pandas as pd\n",
    "import numpy as np\n",
    "import matplotlib.pyplot as plt\n",
    "\n",
    "print('Welcome to Microsoft Fabric Analytics!')"
   ]
  },
  {
   "cell_type": "code",
   "execution_count": null,
   "id": "dee21013",
   "metadata": {},
   "outputs": [],
   "source": [
    "# Create sample data\n",
    "data = {\n",
    "    'date': pd.date_range('2024-01-01', periods=100, freq='D'),\n",
    "    'value': np.random.randn(100).cumsum()\n",
    "}\n",
    "df = pd.DataFrame(data)\n",
    "\n",
    "print(f'Generated {len(df)} rows of sample data')\n",
    "print(df.head())"
   ]
  },
  {
   "cell_type": "code",
   "execution_count": null,
   "id": "044115c9",
   "metadata": {},
   "outputs": [],
   "source": [
    "# Create visualization\n",
    "plt.figure(figsize=(12, 6))\n",
    "plt.plot(df['date'], df['value'])\n",
    "plt.title('Sample Time Series Data')\n",
    "plt.xlabel('Date')\n",
    "plt.ylabel('Value')\n",
    "plt.xticks(rotation=45)\n",
    "plt.tight_layout()\n",
    "plt.show()"
   ]
  }
 ],
 "metadata": {
  "language_info": {
   "name": "python"
  }
 },
 "nbformat": 4,
 "nbformat_minor": 5
}
